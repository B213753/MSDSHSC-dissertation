{
 "cells": [
  {
   "cell_type": "markdown",
   "id": "ba6d8776",
   "metadata": {},
   "source": [
    "# Genotype Preprocessing\n",
    "\n",
    "Process and read hardcall inputs for white british unrelated UK Biobank ids (train + test sample ids)"
   ]
  },
  {
   "cell_type": "markdown",
   "id": "434a28f6",
   "metadata": {},
   "source": [
    "### Modules"
   ]
  },
  {
   "cell_type": "code",
   "execution_count": 1,
   "id": "fda808f0",
   "metadata": {},
   "outputs": [],
   "source": [
    "import pandas as pd #1.5.3\n",
    "import numpy as np #1.20.3\n",
    "import matplotlib as plt\n",
    "import math\n",
    "from tqdm import tqdm"
   ]
  },
  {
   "cell_type": "markdown",
   "id": "e74eec36",
   "metadata": {},
   "source": [
    "### Global Vars"
   ]
  },
  {
   "cell_type": "code",
   "execution_count": 2,
   "id": "6a77c953",
   "metadata": {},
   "outputs": [],
   "source": [
    "wb_unrelated_ids_path = \"/gpfs/igmmfs01/eddie/UK-BioBank-proj19655/gzeng/preprocess_gwas/white_british_unrelated_ids.txt\""
   ]
  },
  {
   "cell_type": "markdown",
   "id": "c00a9647",
   "metadata": {},
   "source": [
    "## Importing and parse vcf file into dataframe"
   ]
  },
  {
   "cell_type": "code",
   "execution_count": 3,
   "id": "058f4b24",
   "metadata": {},
   "outputs": [],
   "source": [
    "#import vcf\n",
    "import vcfpy"
   ]
  },
  {
   "cell_type": "code",
   "execution_count": null,
   "id": "7b6883c9",
   "metadata": {},
   "outputs": [],
   "source": [
    "vcf_path = \"/gpfs/igmmfs01/eddie/UK-BioBank-proj19655/gzeng/genotypes/bgen_assoc/all_chr_threshold_0-9.vcf\"\n",
    "\n",
    "reader = vcfpy.Reader.from_path(vcf_path)\n",
    "\n",
    "header = ['CHROM', 'ID','POS', 'REF', 'ALT'] + reader.header.samples.names\n"
   ]
  },
  {
   "cell_type": "code",
   "execution_count": 8,
   "id": "51c2f158",
   "metadata": {},
   "outputs": [
    {
     "data": {
      "text/html": [
       "<div>\n",
       "<style scoped>\n",
       "    .dataframe tbody tr th:only-of-type {\n",
       "        vertical-align: middle;\n",
       "    }\n",
       "\n",
       "    .dataframe tbody tr th {\n",
       "        vertical-align: top;\n",
       "    }\n",
       "\n",
       "    .dataframe thead th {\n",
       "        text-align: right;\n",
       "    }\n",
       "</style>\n",
       "<table border=\"1\" class=\"dataframe\">\n",
       "  <thead>\n",
       "    <tr style=\"text-align: right;\">\n",
       "      <th></th>\n",
       "      <th>eid</th>\n",
       "    </tr>\n",
       "  </thead>\n",
       "  <tbody>\n",
       "    <tr>\n",
       "      <th>0</th>\n",
       "      <td>5514951</td>\n",
       "    </tr>\n",
       "    <tr>\n",
       "      <th>1</th>\n",
       "      <td>2212802</td>\n",
       "    </tr>\n",
       "    <tr>\n",
       "      <th>2</th>\n",
       "      <td>4736282</td>\n",
       "    </tr>\n",
       "    <tr>\n",
       "      <th>3</th>\n",
       "      <td>4068571</td>\n",
       "    </tr>\n",
       "    <tr>\n",
       "      <th>4</th>\n",
       "      <td>3103104</td>\n",
       "    </tr>\n",
       "    <tr>\n",
       "      <th>...</th>\n",
       "      <td>...</td>\n",
       "    </tr>\n",
       "    <tr>\n",
       "      <th>337539</th>\n",
       "      <td>2835179</td>\n",
       "    </tr>\n",
       "    <tr>\n",
       "      <th>337540</th>\n",
       "      <td>2427790</td>\n",
       "    </tr>\n",
       "    <tr>\n",
       "      <th>337541</th>\n",
       "      <td>2554513</td>\n",
       "    </tr>\n",
       "    <tr>\n",
       "      <th>337542</th>\n",
       "      <td>3589338</td>\n",
       "    </tr>\n",
       "    <tr>\n",
       "      <th>337543</th>\n",
       "      <td>3013284</td>\n",
       "    </tr>\n",
       "  </tbody>\n",
       "</table>\n",
       "<p>337544 rows × 1 columns</p>\n",
       "</div>"
      ],
      "text/plain": [
       "            eid\n",
       "0       5514951\n",
       "1       2212802\n",
       "2       4736282\n",
       "3       4068571\n",
       "4       3103104\n",
       "...         ...\n",
       "337539  2835179\n",
       "337540  2427790\n",
       "337541  2554513\n",
       "337542  3589338\n",
       "337543  3013284\n",
       "\n",
       "[337544 rows x 1 columns]"
      ]
     },
     "execution_count": 8,
     "metadata": {},
     "output_type": "execute_result"
    }
   ],
   "source": [
    "df_vcf = pd.DataFrame({\"eid\":reader.header.samples.names})"
   ]
  },
  {
   "cell_type": "code",
   "execution_count": null,
   "id": "4cd28642",
   "metadata": {},
   "outputs": [],
   "source": [
    "for record in tqdm(reader):       \n",
    "    rsid=record.ID[0]\n",
    "    pos=record.POS\n",
    "    chrom=record.CHROM\n",
    "    \n",
    "    bases = [call.gt_bases for call in record.calls]\n",
    "    \n",
    "    record_df = pd.DataFrame({\n",
    "        rsid: bases,\n",
    "        f\"{rsid}_pos\": f\"{chrom}{pos}\" #include chrom as a prefix to pos e.g. chrom 3 pos 100200 becomes 3100200\n",
    "    })\n",
    "    \n",
    "    df_vcf = pd.concat([df_vcf, record_df], axis=1)"
   ]
  },
  {
   "cell_type": "code",
   "execution_count": 11,
   "id": "1a0fc029",
   "metadata": {},
   "outputs": [],
   "source": [
    "df_vcf.to_csv(\"train_test_geno_input.csv\")"
   ]
  }
 ],
 "metadata": {
  "kernelspec": {
   "display_name": "Python 3 (ipykernel)",
   "language": "python",
   "name": "python3"
  },
  "language_info": {
   "codemirror_mode": {
    "name": "ipython",
    "version": 3
   },
   "file_extension": ".py",
   "mimetype": "text/x-python",
   "name": "python",
   "nbconvert_exporter": "python",
   "pygments_lexer": "ipython3",
   "version": "3.8.13"
  }
 },
 "nbformat": 4,
 "nbformat_minor": 5
}
