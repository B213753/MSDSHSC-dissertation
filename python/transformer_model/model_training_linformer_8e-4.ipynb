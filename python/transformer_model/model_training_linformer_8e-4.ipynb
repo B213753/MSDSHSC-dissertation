{
 "cells": [
  {
   "cell_type": "markdown",
   "id": "b99189fd",
   "metadata": {},
   "source": [
    "# Transformer Model"
   ]
  },
  {
   "cell_type": "markdown",
   "id": "a1a5dd51",
   "metadata": {},
   "source": [
    "# Modules"
   ]
  },
  {
   "cell_type": "code",
   "execution_count": 1,
   "id": "8d57b716",
   "metadata": {},
   "outputs": [],
   "source": [
    "import pandas as pd #1.5.3 \n",
    "import numpy as np #1.20.3\n",
    "\n",
    "import math\n",
    "import torch\n",
    "import torch.nn as nn\n",
    "import torch.nn.init as init\n",
    "import torch.nn.functional as F\n",
    "import torch.optim as optim\n",
    "from torch.utils.data import TensorDataset, DataLoader\n",
    "\n",
    "from sklearn.model_selection import KFold\n",
    "import json"
   ]
  },
  {
   "cell_type": "markdown",
   "id": "5ece214f",
   "metadata": {},
   "source": [
    "### Logging"
   ]
  },
  {
   "cell_type": "code",
   "execution_count": 2,
   "id": "5eedd967",
   "metadata": {},
   "outputs": [],
   "source": [
    "import logging\n",
    "\n",
    "#logging.basicConfig(level=logging.INFO)\n",
    "logging.basicConfig(filename='training.log', filemode='w', format='%(name)s - %(levelname)s - %(message)s', level=logging.INFO)\n",
    "logger = logging.getLogger(__name__)\n",
    "\n",
    "logger.info(f\"CUDA: {torch.cuda.is_available()}\")\n",
    "if torch.cuda.is_available():\n",
    "    logger.info(\"GPU:\", torch.cuda.get_device_name(0))"
   ]
  },
  {
   "cell_type": "markdown",
   "id": "3791686d",
   "metadata": {},
   "source": [
    "# Import datasets"
   ]
  },
  {
   "cell_type": "code",
   "execution_count": 3,
   "id": "6288f07d",
   "metadata": {},
   "outputs": [],
   "source": [
    "X_train = pd.read_csv(\"../preprocess/data/X_train_8e-4.csv\")\n",
    "X_test = pd.read_csv(\"../preprocess/data/X_test_8e-4.csv\")\n",
    "y_train = pd.read_csv(\"../preprocess/data/y_train_8e-4.csv\", header=None)\n",
    "y_test = pd.read_csv(\"../preprocess/data/y_test_8e-4.csv\", header=None)"
   ]
  },
  {
   "cell_type": "markdown",
   "id": "728218dc",
   "metadata": {},
   "source": [
    "### Separate genotype, position inputs\n",
    "Require due to separate embedding processes"
   ]
  },
  {
   "cell_type": "code",
   "execution_count": 4,
   "id": "c09a8a86",
   "metadata": {},
   "outputs": [
    {
     "name": "stdout",
     "output_type": "stream",
     "text": [
      "Dataset shapes \n",
      " X_train_snp:  (292410, 2272) \n",
      " X_test_snp:  (32509, 2272) \n",
      " X_train_pos:  (292410, 2272) \n",
      " X_test_pos:  (32509, 2272) \n",
      " y_train:  (292410, 1) \n",
      " y_test:  (32509, 1) \n",
      "\n"
     ]
    }
   ],
   "source": [
    "snp_columns = [col for col in X_train.columns if \"_pos\" not in col]\n",
    "pos_columns = [col for col in X_train.columns if \"_pos\" in col]\n",
    "\n",
    "X_train_snp = X_train[snp_columns]\n",
    "X_test_snp = X_test[snp_columns]\n",
    "X_train_pos = X_train[pos_columns]\n",
    "X_test_pos = X_test[pos_columns]\n",
    "\n",
    "\n",
    "print(\n",
    "    \"Dataset shapes \\n\",\n",
    "    \"X_train_snp: \",X_train_snp.shape,\"\\n\",\n",
    "    \"X_test_snp: \",X_test_snp.shape,\"\\n\",\n",
    "    \"X_train_pos: \",X_train_pos.shape,\"\\n\",\n",
    "    \"X_test_pos: \",X_test_pos.shape,\"\\n\",\n",
    "    \"y_train: \",y_train.shape,\"\\n\",\n",
    "    \"y_test: \",y_test.shape,\"\\n\",\n",
    ")"
   ]
  },
  {
   "cell_type": "markdown",
   "id": "0f0aa957",
   "metadata": {},
   "source": [
    "# Params"
   ]
  },
  {
   "cell_type": "code",
   "execution_count": 5,
   "id": "3653cd9f",
   "metadata": {},
   "outputs": [],
   "source": [
    "# Device\n",
    "device = \"cuda:0\" if torch.cuda.is_available() else \"cpu\"\n",
    "\n",
    "# Embedding\n",
    "embed_size = 256\n",
    "snp_encoding_size = 32 # \"vocab\" size, snp encoding possibilities e.g. AA, GG, AT, none \n",
    "seq_len = 2272 # Number of snps/ features\n",
    "max_pos_length = 100000 # \"sentence length\", max SNP position number (absolute positions to be scaled down)\n",
    "\n",
    "# Transformer\n",
    "heads = 4\n",
    "num_layers = 4\n",
    "forward_expansion = 8\n",
    "dropout = 0.7\n",
    "agg_fc = \"mean\"\n",
    "\n",
    "# Kfold\n",
    "k_folds = 3\n",
    "batch_size = 10 # SNVformer uses 10\n",
    "\n",
    "# Training\n",
    "src_pad_idx = None # index of the padding token in source vocabulary\n",
    "lr = 7e-7 # SNVformer uses 1e-6\n",
    "num_epochs = 50 # SNV former uses 60\n",
    "weight_decay=1e-1 # L2 regularisation for Optimiser\n",
    "early_stopping_patience=10\n",
    "\n",
    "# Linformer k\n",
    "k=256"
   ]
  },
  {
   "cell_type": "markdown",
   "id": "e05e0fb5",
   "metadata": {},
   "source": [
    "# Embedding"
   ]
  },
  {
   "cell_type": "markdown",
   "id": "37688d0f",
   "metadata": {},
   "source": [
    "### snp embedding"
   ]
  },
  {
   "cell_type": "code",
   "execution_count": 6,
   "id": "f0e2e021",
   "metadata": {},
   "outputs": [],
   "source": [
    "class SnpEmbedding(nn.Module):\n",
    "    \"\"\"\n",
    "    Snp embeddings - use default nn.Embedding. Created class for potential custom functionality / encapsulation\n",
    "    \"\"\"\n",
    "    def __init__(self, snp_encoding_size, embed_size):\n",
    "        super(SnpEmbedding, self).__init__()\n",
    "        self.embedding = nn.Embedding(snp_encoding_size, embed_size)  # Create an embedding layer\n",
    "        \n",
    "    def forward(self, x):\n",
    "        return self.embedding(x)  # Forward pass to get embeddings"
   ]
  },
  {
   "cell_type": "markdown",
   "id": "e32c8fc5",
   "metadata": {},
   "source": [
    "### position embedding"
   ]
  },
  {
   "cell_type": "code",
   "execution_count": 7,
   "id": "d9636102",
   "metadata": {},
   "outputs": [],
   "source": [
    "class PosEmbedding(nn.Module):\n",
    "    \"\"\"\n",
    "    Pos embeddings - sine-cosine encoding of absolute snp positions. Enables positional information to be\n",
    "    captured and the model to learn positional contexts between SNPs. \n",
    "    \"\"\"\n",
    "    def __init__(self, max_pos_length, embed_size):\n",
    "        super(PosEmbedding, self).__init__()\n",
    "        self.max_pos_length = max_pos_length\n",
    "        self.embed_size = embed_size        \n",
    "        \n",
    "        # Create a positional encoding matrix with shape (max_position, embedding_dim). Sine + cosine values calculated in\n",
    "        # embedding space. Relative positions and attension can be learned.\n",
    "        position = torch.arange(max_pos_length).unsqueeze(1)\n",
    "        div_term = torch.exp(torch.arange(0, embed_size, 2) * -(math.log(10000.0) / embed_size))\n",
    "        positional_encoding = torch.zeros(max_pos_length, embed_size)\n",
    "        positional_encoding[:, 0::2] = torch.sin(position * div_term)\n",
    "        positional_encoding[:, 1::2] = torch.cos(position * div_term)\n",
    "        \n",
    "        # Register this matrix as a buffer that is not a model parameter\n",
    "        self.register_buffer('positional_encoding', positional_encoding)\n",
    "        \n",
    "    def forward(self, x):\n",
    "        \"\"\"\n",
    "        Inputs:\n",
    "            x: A tensor of shape (batch_size, sequence_length) containing the SNP positions.\n",
    "        Returns:\n",
    "            A tensor of shape (batch_size, sequence_length, embedding_dim) with added positional encodings.\n",
    "        \"\"\"\n",
    "        # Retrieve the positional encodings based on the SNP positions in x\n",
    "        # Ensure the positions in x do not exceed max_position and is int (scaled positions are float)\n",
    "        x = x.clamp(0, self.max_pos_length - 1)\n",
    "        x = x.round().long()\n",
    "        return self.positional_encoding[x]"
   ]
  },
  {
   "cell_type": "markdown",
   "id": "ea9af6e4",
   "metadata": {},
   "source": [
    "Linear scaling of SNP pos to preserve relative distances"
   ]
  },
  {
   "cell_type": "code",
   "execution_count": null,
   "id": "6612c07d",
   "metadata": {},
   "outputs": [],
   "source": [
    "# Example SNP positions\n",
    "snp_positions = np.array(X_train_pos.iloc[0,:])  # snp positions of first record - same for all records\n",
    "\n",
    "# Calculate the min and max\n",
    "min_position = np.min(snp_positions)\n",
    "max_position = np.max(snp_positions)\n",
    "\n",
    "# Scale positions to range 0-max_pos_length\n",
    "scaled_positions = 0 + ((snp_positions - min_position) * (max_pos_length - 0)) / (max_position - min_position)\n",
    "\n",
    "# Replace positions with scaled positions for all rows/records\n",
    "X_train_pos = np.tile(scaled_positions,(len(X_train_pos),1)) #This is now ndarray and not df\n"
   ]
  },
  {
   "cell_type": "code",
   "execution_count": 11,
   "id": "a7d45f30",
   "metadata": {},
   "outputs": [
    {
     "data": {
      "text/plain": [
       "array([   14725873,   149501894,   164246170,   191089379,   191093014,\n",
       "         198159558,  1187528659,    22424764,    29453246,   246573210,\n",
       "        2123646203,  2125009044,  2140759771,  2144304494,  2144535837,\n",
       "        2155670768,  2156568806,  2188896397,  2207927831,   335591556,\n",
       "         344523634,   348768680,   382011690,   384757676,   385094800,\n",
       "         389273019,  3103710513,  3112101315,  3177368489,   416823173,\n",
       "         437993214,   438653771,   439931534,   443237901,   447490933,\n",
       "         467709129,   484600736,  4119861650,    57982843,   581145466,\n",
       "        5125344932,  5131137580,   685882348,   698546547,   699300428,\n",
       "        6124183635,  6164040267,    71980113,    73535566,   763359252,\n",
       "        7114940159,  7131542232,  7132519864,  7133453874,  7142427638,\n",
       "        7150726689,   834751056,   834751056,   834946925,   860196619,\n",
       "         865258742,   865341428,   866956527,   877592275,  8131204233,\n",
       "          91521527,   921943952,   931634264,   976157130,   986094458,\n",
       "         987493497,  9132158333,  9136542825,  1032196401,  1034556943,\n",
       "        1036123302,  1075950739,  1099198496, 10114573041, 10127153283,\n",
       "       10127752819,  1127694241,  1147046554,  1147806657,  1148696330,\n",
       "        1213480838,  1213676937,  1241716578,  1253280223,  1272370209,\n",
       "       12107063617, 12121114236,  1330638937,  1340949006,  1360686017,\n",
       "        1360828912,  1438591024,  1452529196,  1456348839,  1456348839,\n",
       "        1471841411, 14101294410, 14105423666,  1569831951,  1678015782,\n",
       "         172761730,  1718247891,  1734848874,  1737746192,  1761343166,\n",
       "        1821227675,  1825624002,  1825692866,  1853577939,  1869841223,\n",
       "        1873054403,  1930930222,  1949909580,  1956094522,   202797015,\n",
       "         203589626,  2047629050,  2239168987])"
      ]
     },
     "execution_count": 11,
     "metadata": {},
     "output_type": "execute_result"
    }
   ],
   "source": [
    "snp_positions"
   ]
  },
  {
   "cell_type": "code",
   "execution_count": 12,
   "id": "c6305d76",
   "metadata": {},
   "outputs": [
    {
     "data": {
      "text/plain": [
       "array([0.00000000e+00, 9.56489331e+01, 1.06112770e+02, 1.25163075e+02,\n",
       "       1.25165654e+02, 1.30180696e+02, 8.32324136e+02, 5.46381103e+00,\n",
       "       1.04518408e+01, 1.64539287e+02, 1.49667558e+03, 1.49764277e+03,\n",
       "       1.50882088e+03, 1.51133652e+03, 1.51150070e+03, 1.51940303e+03,\n",
       "       1.52004036e+03, 1.54298286e+03, 1.55648925e+03, 2.27714545e+02,\n",
       "       2.34053534e+02, 2.37066192e+02, 2.60658359e+02, 2.62607153e+02,\n",
       "       2.62846406e+02, 2.65811638e+02, 2.19221552e+03, 2.19817037e+03,\n",
       "       2.24448971e+03, 2.85363653e+02, 3.00387779e+02, 3.00856568e+02,\n",
       "       3.01763381e+02, 3.04109870e+02, 3.07128196e+02, 3.21476809e+02,\n",
       "       3.33464581e+02, 2.91336585e+03, 3.06989552e+01, 4.01981223e+02,\n",
       "       3.62694533e+03, 3.63105631e+03, 4.76311738e+02, 4.85299368e+02,\n",
       "       4.85834389e+02, 4.33580924e+03, 4.36409501e+03, 4.06326506e+01,\n",
       "       4.17365370e+01, 5.31296171e+02, 5.03893731e+03, 5.05071960e+03,\n",
       "       5.05141342e+03, 5.05207627e+03, 5.05844485e+03, 5.06433459e+03,\n",
       "       5.81962082e+02, 5.81962082e+02, 5.82101088e+02, 6.00020495e+02,\n",
       "       6.03613023e+02, 6.03671704e+02, 6.04817921e+02, 6.12365984e+02,\n",
       "       5.76016779e+03, 5.45009588e+01, 6.43841840e+02, 6.50718938e+02,\n",
       "       6.82316285e+02, 6.89368688e+02, 6.90361569e+02, 6.47053297e+03,\n",
       "       6.47364459e+03, 7.22086687e+02, 7.23761935e+02, 7.24873561e+02,\n",
       "       7.53138618e+02, 7.69637273e+02, 7.16774096e+03, 7.17666900e+03,\n",
       "       7.17709449e+03, 7.89860363e+02, 8.03594469e+02, 8.04133905e+02,\n",
       "       8.04765295e+02, 8.50742087e+02, 8.50881256e+02, 8.70780655e+02,\n",
       "       8.78987236e+02, 8.92535171e+02, 8.58178773e+03, 8.59175929e+03,\n",
       "       9.33887791e+02, 9.41204724e+02, 9.55211845e+02, 9.55313256e+02,\n",
       "       1.01050010e+03, 1.02039185e+03, 1.02310261e+03, 1.02310261e+03,\n",
       "       1.03409750e+03, 9.99706952e+03, 1.00000000e+04, 1.10364022e+03,\n",
       "       1.18041699e+03, 1.12156161e+02, 1.20896924e+03, 1.22075076e+03,\n",
       "       1.22280695e+03, 1.23955344e+03, 1.28205276e+03, 1.28517278e+03,\n",
       "       1.28522165e+03, 1.30501136e+03, 1.31655322e+03, 1.31883357e+03,\n",
       "       1.35990735e+03, 1.37337677e+03, 1.37776615e+03, 1.33471844e+02,\n",
       "       1.34034351e+02, 1.44272711e+03, 1.57866072e+03])"
      ]
     },
     "execution_count": 12,
     "metadata": {},
     "output_type": "execute_result"
    }
   ],
   "source": [
    "scaled_positions"
   ]
  },
  {
   "cell_type": "code",
   "execution_count": 13,
   "id": "aa149a23",
   "metadata": {},
   "outputs": [
    {
     "data": {
      "text/plain": [
       "array([[   0.        ,   95.64893306,  106.11276971, ...,  134.03435073,\n",
       "        1442.72711463, 1578.66072119],\n",
       "       [   0.        ,   95.64893306,  106.11276971, ...,  134.03435073,\n",
       "        1442.72711463, 1578.66072119],\n",
       "       [   0.        ,   95.64893306,  106.11276971, ...,  134.03435073,\n",
       "        1442.72711463, 1578.66072119],\n",
       "       ...,\n",
       "       [   0.        ,   95.64893306,  106.11276971, ...,  134.03435073,\n",
       "        1442.72711463, 1578.66072119],\n",
       "       [   0.        ,   95.64893306,  106.11276971, ...,  134.03435073,\n",
       "        1442.72711463, 1578.66072119],\n",
       "       [   0.        ,   95.64893306,  106.11276971, ...,  134.03435073,\n",
       "        1442.72711463, 1578.66072119]])"
      ]
     },
     "execution_count": 13,
     "metadata": {},
     "output_type": "execute_result"
    }
   ],
   "source": [
    "X_train_pos"
   ]
  },
  {
   "cell_type": "markdown",
   "id": "2a80e4d4",
   "metadata": {},
   "source": [
    "# Linear Multi Head Attention \n",
    "Taken from https://github.com/lucidrains/linformer/blob/master/linformer/linformer.py"
   ]
  },
  {
   "cell_type": "code",
   "execution_count": 14,
   "id": "05e1cc0d",
   "metadata": {},
   "outputs": [],
   "source": [
    "# helper functions\n",
    "def default(val, default_val):\n",
    "    return val if val is not None else default_val\n",
    "\n",
    "def init_(tensor):\n",
    "    dim = tensor.shape[-1]\n",
    "    std = 1 / math.sqrt(dim)\n",
    "    tensor.uniform_(-std, std)\n",
    "    return tensor\n",
    "\n",
    "class LinformerSelfAttention(nn.Module):\n",
    "    def __init__(self, embed_size, seq_len, k = 256, heads = 8, dim_head = None, one_kv_head = False, share_kv = False, dropout = 0.):\n",
    "        super().__init__()\n",
    "        \n",
    "        dim = embed_size\n",
    "        \n",
    "        assert (dim % heads) == 0, 'dimension must be divisible by the number of heads'\n",
    "\n",
    "        self.seq_len =  seq_len\n",
    "        self.k = k\n",
    "        \n",
    "\n",
    "        self.heads = heads\n",
    "\n",
    "        dim_head = default(dim_head, dim // heads)\n",
    "        self.dim_head = dim_head\n",
    "\n",
    "        self.to_q = nn.Linear(dim, dim_head * heads, bias = False)\n",
    "\n",
    "        kv_dim = dim_head if one_kv_head else (dim_head * heads)\n",
    "        self.to_k = nn.Linear(dim, kv_dim, bias = False)\n",
    "        self.proj_k = nn.Parameter(init_(torch.zeros(seq_len, k)))\n",
    "\n",
    "        self.share_kv = share_kv\n",
    "        if not share_kv:\n",
    "            self.to_v = nn.Linear(dim, kv_dim, bias = False)\n",
    "            self.proj_v = nn.Parameter(init_(torch.zeros(seq_len, k)))\n",
    "\n",
    "        self.dropout = nn.Dropout(dropout)\n",
    "        self.to_out = nn.Linear(dim_head * heads, dim)\n",
    "\n",
    "    def forward(self, x, context = None, **kwargs):\n",
    "        # x shape is [batch, seq_len, embed_size]\n",
    "        b, n, d, d_h, h, k = *x.shape, self.dim_head, self.heads, self.k\n",
    "\n",
    "        kv_len = n if context is None else context.shape[1]\n",
    "        assert kv_len <= self.seq_len, f'the sequence length of the key / values must be {self.seq_len} - {kv_len} given'\n",
    "\n",
    "        queries = self.to_q(x)\n",
    "\n",
    "        proj_seq_len = lambda args: torch.einsum('bnd,nk->bkd', *args)\n",
    "\n",
    "        kv_input = x if context is None else context\n",
    "\n",
    "        keys = self.to_k(kv_input)\n",
    "        values = self.to_v(kv_input) if not self.share_kv else keys\n",
    "\n",
    "        kv_projs = (self.proj_k, self.proj_v if not self.share_kv else self.proj_k)\n",
    "\n",
    "        # allow for variable sequence lengths (less than maximum sequence length) by slicing projections\n",
    "\n",
    "        if kv_len < self.seq_len:\n",
    "            kv_projs = map(lambda t: t[:kv_len], kv_projs)\n",
    "\n",
    "        # project keys and values along the sequence length dimension to k\n",
    "\n",
    "        keys, values = map(proj_seq_len, zip((keys, values), kv_projs))\n",
    "\n",
    "        # merge head into batch for queries and key / values\n",
    "\n",
    "        queries = queries.reshape(b, n, h, -1).transpose(1, 2)\n",
    "\n",
    "        merge_key_values = lambda t: t.reshape(b, k, -1, d_h).transpose(1, 2).expand(-1, h, -1, -1)\n",
    "        keys, values = map(merge_key_values, (keys, values))\n",
    "        \n",
    "        # attention\n",
    "\n",
    "        dots = torch.einsum('bhnd,bhkd->bhnk', queries, keys) * (d_h ** -0.5)\n",
    "        \n",
    "        attn = dots.softmax(dim=-1)\n",
    "        attn = self.dropout(attn)\n",
    "        out = torch.einsum('bhnk,bhkd->bhnd', attn, values)\n",
    "\n",
    "        # split heads\n",
    "        out = out.transpose(1, 2).reshape(b, n, -1)\n",
    "        return self.to_out(out)"
   ]
  },
  {
   "cell_type": "markdown",
   "id": "c104dda9",
   "metadata": {},
   "source": [
    "# Encoder\n",
    "\n",
    "Transformer Layer: \n",
    "- Multi-Head Attention\n",
    "- Add & Norm\n",
    "- Feed Forward\n",
    "- Add & Norm again"
   ]
  },
  {
   "cell_type": "code",
   "execution_count": 15,
   "id": "588e5c50",
   "metadata": {},
   "outputs": [],
   "source": [
    "class TransformerLayer(nn.Module):\n",
    "    def __init__(self, embed_size, seq_len, heads, dropout, k, forward_expansion=4):\n",
    "        super(TransformerLayer, self).__init__()\n",
    "        self.attention = LinformerSelfAttention(embed_size, seq_len, k, heads, \n",
    "                                            dim_head = None, one_kv_head = False, share_kv = False, \n",
    "                                            dropout=dropout) \n",
    "        self.norm1 = nn.LayerNorm(embed_size)\n",
    "        self.norm2 = nn.LayerNorm(embed_size)\n",
    "        self.feed_forward = nn.Sequential(\n",
    "            nn.Linear(embed_size, forward_expansion * embed_size),\n",
    "            nn.ReLU(),\n",
    "            nn.Linear(forward_expansion * embed_size, embed_size),\n",
    "        )\n",
    "        self.dropout = nn.Dropout(dropout)\n",
    "\n",
    "    def forward(self, x):\n",
    "        # Values, Keys and Queries have size: (batch_size, query_len, embedding_size)\n",
    "        attention = self.attention(x) # attention shape: (batch_size, query_len, embedding_size)\n",
    "        # Add skip connection, run through normalization and finally dropout\n",
    "        norm_out = self.dropout(self.norm1(attention + x)) # x shape: (batch_size, query_len, embedding_size)\n",
    "        forward = self.feed_forward(norm_out) # forward shape: (batch_size, query_len, embedding_size)\n",
    "        out = self.dropout(self.norm2(forward + x)) # out shape: (batch_size, query_len, embedding_size)\n",
    "        return out"
   ]
  },
  {
   "cell_type": "markdown",
   "id": "e8acb675",
   "metadata": {},
   "source": [
    "Encoder = Embedding + transformer layer"
   ]
  },
  {
   "cell_type": "code",
   "execution_count": 16,
   "id": "c1990fb9",
   "metadata": {},
   "outputs": [],
   "source": [
    "class Encoder(nn.Module):\n",
    "    def __init__(self, snp_encoding_size, embed_size, seq_len, num_layers, heads,\n",
    "        device, forward_expansion, dropout, k, max_pos_length): \n",
    "        super(Encoder, self).__init__()\n",
    "        self.embed_size = embed_size # size of the input embedding\n",
    "        self.device = device # either \"cuda\" or \"cpu\"\n",
    "        # Lookup table with an embedding for each word in the vocabulary\n",
    "        self.snp_embedding = SnpEmbedding(snp_encoding_size, embed_size)\n",
    "        # Lookup table with a positional embedding for each word in the sequence\n",
    "        self.position_embedding = PosEmbedding(max_pos_length, embed_size)\n",
    "        \n",
    "        self.layers = nn.ModuleList(\n",
    "            [\n",
    "                TransformerLayer(\n",
    "                    embed_size,\n",
    "                    seq_len,\n",
    "                    heads,\n",
    "                    dropout,\n",
    "                    k,\n",
    "                    forward_expansion=forward_expansion,\n",
    "                )\n",
    "                for _ in range(num_layers)\n",
    "            ]\n",
    "        )\n",
    "        self.dropout = nn.Dropout(dropout)\n",
    "\n",
    "    def forward(self, x, positions):\n",
    "        \"\"\"\n",
    "        Forward pass.\n",
    "        :param x: source sequence. Shape: (batch_size, source_sequence_len).\n",
    "        :param positions: source positions. Shape: (batch_size, source_sequence_len).\n",
    "        :return output: torch tensor of shape (batch_size, src_sequence_length, embedding_size)\n",
    "        \"\"\"\n",
    "        batch_size, seq_length = x.shape\n",
    "        \n",
    "        embed_out = self.dropout(\n",
    "            (self.snp_embedding(x) # Shape (batch_size, snps_total, embed_size) e.g. (64,5,128)\n",
    "            + self.position_embedding(positions) # Shape (batch_size, snps_total, embed_size) e.g. (64,5,128)\n",
    "            ) \n",
    "        )\n",
    "        \n",
    "        out = embed_out\n",
    "        # Final shape should be [batch_size, snp_total, embed_size]\n",
    "        \n",
    "        # In the Encoder the query, key, value are all the same\n",
    "        for layer in self.layers:\n",
    "            out = layer(out)\n",
    "        \n",
    "        # TEST: add skip connection\n",
    "        out = out + embed_out\n",
    "        return out"
   ]
  },
  {
   "cell_type": "markdown",
   "id": "67889eb4",
   "metadata": {},
   "source": [
    "# Transformer Model"
   ]
  },
  {
   "cell_type": "code",
   "execution_count": 17,
   "id": "c2014510",
   "metadata": {},
   "outputs": [],
   "source": [
    "class Transformer(nn.Module):\n",
    "    def __init__(self, snp_encoding_size, src_pad_idx, embed_size, seq_len,\n",
    "                 num_layers, forward_expansion, heads, dropout, k, device, max_pos_length, agg_fc):\n",
    "\n",
    "        super(Transformer, self).__init__()\n",
    "        # === Encoder ===\n",
    "        self.encoder = Encoder(snp_encoding_size, embed_size, seq_len, num_layers, heads,\n",
    "                               device, forward_expansion, dropout, k, max_pos_length )\n",
    "        self.src_pad_idx = src_pad_idx\n",
    "        self.device = device\n",
    "        \n",
    "        # === Regression Out ===\n",
    "        self.fc_out = nn.Linear(embed_size, 1) # Single regression target value\n",
    "\n",
    "\n",
    "    def forward(self, snp, pos):\n",
    "\n",
    "        enc_out = self.encoder(snp, pos) \n",
    "        \n",
    "        # Aggregate layers output e.g. mean or max\n",
    "        aggregated_out=None\n",
    "        if agg_fc==\"max\":\n",
    "            aggregated_out, _ = enc_out.max(dim=1)  # [batch_size, embed_size]\n",
    "        else:\n",
    "            aggregated_out = enc_out.mean(dim=1)  # [batch_size, embed_size]\n",
    "        \n",
    "        out = self.fc_out(aggregated_out) # [batch_size, 1]\n",
    "        return out"
   ]
  },
  {
   "cell_type": "markdown",
   "id": "aab3cb8b",
   "metadata": {},
   "source": [
    "# DataLoader"
   ]
  },
  {
   "cell_type": "code",
   "execution_count": 18,
   "id": "af80b328",
   "metadata": {},
   "outputs": [],
   "source": [
    "snp_tensor = torch.tensor(X_train_snp.values, dtype=torch.long) # torch.long for integers\n",
    "\n",
    "pos_tensor = torch.tensor(X_train_pos)\n",
    "\n",
    "y_tensor = torch.tensor(y_train.values)"
   ]
  },
  {
   "cell_type": "markdown",
   "id": "27eff20c",
   "metadata": {},
   "source": [
    "# KFold CV setup"
   ]
  },
  {
   "cell_type": "code",
   "execution_count": 19,
   "id": "dd13123d",
   "metadata": {},
   "outputs": [],
   "source": [
    "kf = KFold(n_splits=k_folds, shuffle=True, random_state=42)\n",
    "\n",
    "indices = np.arange(len(snp_tensor)) # List for tensor indexing with k-folds\n"
   ]
  },
  {
   "cell_type": "markdown",
   "id": "f0fadd85",
   "metadata": {},
   "source": [
    "# Training"
   ]
  },
  {
   "cell_type": "code",
   "execution_count": null,
   "id": "13c7174a",
   "metadata": {},
   "outputs": [],
   "source": [
    "training_log = []\n",
    "\n",
    "for fold, (train_ids, val_ids) in enumerate(kf.split(indices)):\n",
    "    # Split the data\n",
    "    snp_train, snp_val = snp_tensor[train_ids], snp_tensor[val_ids]\n",
    "    pos_train, pos_val = pos_tensor[train_ids], pos_tensor[val_ids]\n",
    "    y_train, y_val = y_tensor[train_ids], y_tensor[val_ids]\n",
    "    \n",
    "    # Create DataLoader for both training and validation sets\n",
    "    train_dataset = TensorDataset(snp_train, pos_train, y_train)\n",
    "    train_loader = DataLoader(train_dataset, batch_size=batch_size, shuffle=True) # batch_size defined in params\n",
    "    \n",
    "    val_dataset = TensorDataset(snp_val, pos_val, y_val)\n",
    "    val_loader = DataLoader(val_dataset, batch_size=batch_size, shuffle=False)\n",
    "    \n",
    "    # Initialize model, loss function, and optimizer for each fold\n",
    "    # This ensures that each fold starts with a fresh model\n",
    "    model = Transformer(snp_encoding_size, src_pad_idx, embed_size, seq_len,\n",
    "                     num_layers, forward_expansion, heads, dropout, k, device, max_pos_length, agg_fc)\n",
    "\n",
    "    model = model.to(device)\n",
    "    \n",
    "    optimizer = optim.AdamW(model.parameters(), lr=lr,betas=(0.9, 0.999), eps=1e-8, amsgrad=True, weight_decay=weight_decay)\n",
    "    loss_function = nn.MSELoss()\n",
    "    #loss_function = nn.L1Loss()\n",
    "\n",
    "    # Early stopping setup\n",
    "    early_stopping_patience = early_stopping_patience\n",
    "    epochs_no_improve = 0\n",
    "    early_stop = False\n",
    "    \n",
    "    # Checkpoint setup - model with lowest avg_val_loss is saved\n",
    "    best_val_loss = float('inf')\n",
    "    \n",
    "    # Logging setup\n",
    "    loss_log = {\n",
    "        'train_loss': [],\n",
    "        'val_loss': []\n",
    "    }\n",
    "    \n",
    "    # Training loop for the current fold\n",
    "    for epoch in range(num_epochs):\n",
    "        # Break the loop if early stopping is triggered\n",
    "        if early_stop:\n",
    "            print(f\"Early stopping triggered after {epoch} epochs.\")\n",
    "            break  \n",
    "\n",
    "        model.train() # Training mode\n",
    "        train_loss = 0.0\n",
    "        train_batches_count = 0\n",
    "        \n",
    "        for snp_batch, pos_batch, y_batch in train_loader:\n",
    "            snp_batch = snp_batch.to(device)\n",
    "            pos_batch = pos_batch.to(device)\n",
    "            y_batch = y_batch.to(device)\n",
    "\n",
    "            # Forward pass\n",
    "            out = model(snp_batch, pos_batch) #[batch_size,1]  regression output scores\n",
    "\n",
    "            # Zero the gradients if necessary\n",
    "            optimizer.zero_grad()\n",
    "\n",
    "            # Compute loss\n",
    "            loss = loss_function(out.to(dtype=torch.float64), y_batch) \n",
    "            print(np.sqrt(loss.item()))\n",
    "            train_loss+=loss.item() # Accumulate the training loss\n",
    "            \n",
    "            train_batches_count+=1\n",
    "            \n",
    "            # Backprop\n",
    "            loss.backward()\n",
    "\n",
    "            # Update Weights\n",
    "            optimizer.step()\n",
    "            \n",
    "        # Calculate average training loss for the current epoch\n",
    "        avg_train_loss = train_loss / train_batches_count\n",
    "        logger.info(f\"Fold {fold}, Epoch {epoch}, Training Loss: {avg_train_loss}\") \n",
    "            \n",
    "        # Validation loop for the current fold\n",
    "        model.eval() # Eval mode\n",
    "        val_loss = 0.0\n",
    "        val_batches_count = 0\n",
    "        \n",
    "        with torch.no_grad():\n",
    "            for snp_batch, pos_batch, y_batch in val_loader:\n",
    "                snp_batch = snp_batch.to(device)\n",
    "                pos_batch = pos_batch.to(device)\n",
    "                y_batch = y_batch.to(device)\n",
    "                \n",
    "                # Forward pass with no gradient calculation\n",
    "                out = model(snp_batch, pos_batch) #[batch_size,1]  regression output scores\n",
    "                \n",
    "                loss = loss_function(out.to(dtype=torch.float64), y_batch)\n",
    "                \n",
    "                val_loss += loss.item()  # Accumulate the validation loss\n",
    "                \n",
    "                val_batches_count += 1    \n",
    "                \n",
    "        # Calculate average validation loss for the current epoch\n",
    "        avg_val_loss = val_loss / val_batches_count\n",
    "        logger.info(f\"Fold {fold}, Epoch {epoch}, Validation Loss: {avg_val_loss}\") \n",
    "        \n",
    "        # Checkpointing / early stopping\n",
    "        if avg_val_loss < best_val_loss:\n",
    "            logger.info(f\"Validation loss improved from {best_val_loss} to {avg_val_loss}. Saving model...\")\n",
    "            best_val_loss = avg_val_loss\n",
    "            epochs_no_improve = 0\n",
    "            torch.save(model.state_dict(), f\"linformer_best_fold_{fold}_epoch_{epoch}.pth\")\n",
    "        else:\n",
    "            epochs_no_improve += 1\n",
    "            if epochs_no_improve == early_stopping_patience:\n",
    "                early_stop = True\n",
    "                print(f\"Early stopping activated. Validation loss did not decrease for {early_stopping_patience} consecutive epochs.\")\n",
    "            \n",
    "        # Log per epoch\n",
    "        loss_log['train_loss'].append(avg_train_loss)\n",
    "        loss_log['val_loss'].append(avg_val_loss)\n",
    "        \n",
    "        # with open(f'linformer_train_loss_log_fold_{fold}_epoch_{epoch}.json', 'w') as f:\n",
    "        #     json.dump(loss_log['train_loss'], f)\n",
    "            \n",
    "        # with open(f'linformer_val_loss_log_fold_{fold}_epoch_{epoch}.json', 'w') as f:\n",
    "        #     json.dump(loss_log['val_loss'], f)\n",
    "    \n",
    "    #Log per fold\n",
    "    training_log.append(loss_log)\n",
    "    with open('linformer_loss_log.json', 'w') as f:\n",
    "        json.dump(training_log, f)\n",
    "\n"
   ]
  },
  {
   "cell_type": "markdown",
   "id": "bb0be8f4",
   "metadata": {},
   "source": [
    "# Save final model"
   ]
  },
  {
   "cell_type": "code",
   "execution_count": null,
   "id": "cda9ba2a",
   "metadata": {},
   "outputs": [],
   "source": [
    "torch.save(model, \"template_linformer_model.pth\")"
   ]
  }
 ],
 "metadata": {
  "kernelspec": {
   "display_name": "Python 3 (ipykernel)",
   "language": "python",
   "name": "python3"
  },
  "language_info": {
   "codemirror_mode": {
    "name": "ipython",
    "version": 3
   },
   "file_extension": ".py",
   "mimetype": "text/x-python",
   "name": "python",
   "nbconvert_exporter": "python",
   "pygments_lexer": "ipython3",
   "version": "3.8.13"
  }
 },
 "nbformat": 4,
 "nbformat_minor": 5
}
